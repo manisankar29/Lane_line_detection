{
  "nbformat": 4,
  "nbformat_minor": 0,
  "metadata": {
    "colab": {
      "provenance": [],
      "mount_file_id": "1_CAGMfvaYOugeI6shTg6DSFHIldUhAsV",
      "authorship_tag": "ABX9TyNRJ7qjPYuHoOpTgFoJU4pq",
      "include_colab_link": true
    },
    "kernelspec": {
      "name": "python3",
      "display_name": "Python 3"
    },
    "language_info": {
      "name": "python"
    }
  },
  "cells": [
    {
      "cell_type": "markdown",
      "metadata": {
        "id": "view-in-github",
        "colab_type": "text"
      },
      "source": [
        "<a href=\"https://colab.research.google.com/github/manisankar29/Lane_line_detection/blob/main/Lane_Line_Detection.ipynb\" target=\"_parent\"><img src=\"https://colab.research.google.com/assets/colab-badge.svg\" alt=\"Open In Colab\"/></a>"
      ]
    },
    {
      "cell_type": "markdown",
      "source": [
        "## **Importing necessary libraries**"
      ],
      "metadata": {
        "id": "ZeV9uhTK-m3T"
      }
    },
    {
      "cell_type": "code",
      "source": [
        "import numpy as np\n",
        "import pandas as pd\n",
        "import cv2\n",
        "from google.colab.patches import cv2_imshow\n",
        "from moviepy import editor\n",
        "import moviepy"
      ],
      "metadata": {
        "id": "iYTLywzw-rKi"
      },
      "execution_count": 1,
      "outputs": []
    },
    {
      "cell_type": "markdown",
      "source": [
        "## **Defining the driver function**"
      ],
      "metadata": {
        "id": "ivqO50AN--rG"
      }
    },
    {
      "cell_type": "code",
      "source": [
        "def process_video(test, output):\n",
        "  input_video = editor.VideoFileClip(test, audio=False)\n",
        "  processed = input_video.fl_image(frame_processor)\n",
        "  processed.write_videofile(output, audio=False)"
      ],
      "metadata": {
        "id": "dUnXZSje_SN0"
      },
      "execution_count": 11,
      "outputs": []
    },
    {
      "cell_type": "markdown",
      "source": [
        "## **Defining \"frame_processor\" function where all the processing happens on a frame to detect lane lines**"
      ],
      "metadata": {
        "id": "XdYiVuQRABkU"
      }
    },
    {
      "cell_type": "code",
      "source": [
        "def frame_processor(image):\n",
        "  grayscale = cv2.cvtColor(image, cv2.COLOR_BGR2GRAY)\n",
        "  kernel_size = 5\n",
        "  blur = cv2.GaussianBlur(grayscale, (kernel_size, kernel_size), 0)\n",
        "  low_t = 50\n",
        "  high_t = 150\n",
        "  edges = cv2.Canny(blur, low_t, high_t)\n",
        "  region = region_selection(edges)\n",
        "  hough = hough_transform(region)\n",
        "  result = draw_lane_lines(image, lane_lines(image, hough))\n",
        "  return result"
      ],
      "metadata": {
        "id": "-r394uFNAQRl"
      },
      "execution_count": 17,
      "outputs": []
    },
    {
      "cell_type": "markdown",
      "source": [
        "## **Defining \"region_selection\" function**"
      ],
      "metadata": {
        "id": "DdxBpSE9BV44"
      }
    },
    {
      "cell_type": "code",
      "source": [
        "def region_selection(image):\n",
        "  mask = np.zeros_like(image)\n",
        "\n",
        "  if len(image.shape) > 2:\n",
        "    channel_count = image.shape[2]\n",
        "    ignore_mask_color = (255,) * channel_count\n",
        "  else:\n",
        "    ignore_mask_color = 255\n",
        "\n",
        "  rows, cols = image.shape[:2]\n",
        "  bottom_left  = [cols * 0.1, rows * 0.95]\n",
        "  top_left     = [cols * 0.4, rows * 0.6]\n",
        "  bottom_right = [cols * 0.9, rows * 0.95]\n",
        "  top_right    = [cols * 0.6, rows * 0.6]\n",
        "  vertices = np.array([[bottom_left, top_left, top_right, bottom_right]], dtype=np.int32)\n",
        "\n",
        "  cv2.fillPoly(mask, vertices, ignore_mask_color)\n",
        "\n",
        "  masked_image = cv2.bitwise_and(image, mask)\n",
        "\n",
        "  return masked_image"
      ],
      "metadata": {
        "id": "MjSgKdvWBuoq"
      },
      "execution_count": 19,
      "outputs": []
    },
    {
      "cell_type": "markdown",
      "source": [
        "## **Defining \"hough_transform\" funtion**"
      ],
      "metadata": {
        "id": "HNNDJphGD07d"
      }
    },
    {
      "cell_type": "code",
      "source": [
        "def hough_transform(image):\n",
        "  rho = 1\n",
        "  theta = np.pi/180\n",
        "  threshold = 20\n",
        "  minLineLength = 20\n",
        "  maxLineGap = 500\n",
        "\n",
        "  return cv2.HoughLinesP(image, rho=rho, theta=theta, threshold=threshold, minLineLength=minLineLength, maxLineGap=maxLineGap)"
      ],
      "metadata": {
        "id": "95BjzDElEEbq"
      },
      "execution_count": 5,
      "outputs": []
    },
    {
      "cell_type": "markdown",
      "source": [
        "## **Defining \"average_slope_intercept\" function**"
      ],
      "metadata": {
        "id": "i8vkKVkVE6bp"
      }
    },
    {
      "cell_type": "code",
      "source": [
        "def average_slope_intercept(lines):\n",
        "  left_lines    = []\n",
        "  left_weights  = []\n",
        "  right_lines   = []\n",
        "  right_weights = []\n",
        "\n",
        "  for line in lines:\n",
        "    for x1, y1, x2, y2 in line:\n",
        "      if x1 == x2:\n",
        "        continue\n",
        "\n",
        "      slope = (y2 - y1) / (x2 - x1)\n",
        "      intercept = y1 - (slope * x1)\n",
        "      length = np.sqrt(((y2 - y1) ** 2) + ((x2 - x1) ** 2))\n",
        "\n",
        "      if slope < 0:\n",
        "        left_lines.append((slope, intercept))\n",
        "        left_weights.append((length))\n",
        "      else:\n",
        "        right_lines.append((slope, intercept))\n",
        "        right_weights.append((length))\n",
        "\n",
        "  left_lane = np.dot(left_weights, left_lines) / np.sum(left_weights) if len(left_weights) > 0 else None\n",
        "  right_lane = np.dot(right_weights, right_lines) / np.sum(right_weights) if len(right_weights) > 0 else None\n",
        "\n",
        "  return left_lane, right_lane"
      ],
      "metadata": {
        "id": "11z2M_LvFlwz"
      },
      "execution_count": 6,
      "outputs": []
    },
    {
      "cell_type": "markdown",
      "source": [
        "## **Defining \"pixel_points\" function**"
      ],
      "metadata": {
        "id": "JR2rh9hoHrP6"
      }
    },
    {
      "cell_type": "code",
      "source": [
        "def pixel_points(y1, y2, line):\n",
        "  if line is None:\n",
        "    return None\n",
        "\n",
        "  slope, intercept = line\n",
        "  x1 = int((y1 - intercept) / slope)\n",
        "  x2 = int((y2 - intercept) / slope)\n",
        "  y1 = int(y1)\n",
        "  y2 = int(y2)\n",
        "  return ((x1, y1), (x2, y2))"
      ],
      "metadata": {
        "id": "pgJKazIHIEfa"
      },
      "execution_count": 7,
      "outputs": []
    },
    {
      "cell_type": "markdown",
      "source": [
        "## **Defining \"lane_lines\" function**"
      ],
      "metadata": {
        "id": "fZz9Z1CP3Ehw"
      }
    },
    {
      "cell_type": "code",
      "source": [
        "def lane_lines(image, lines):\n",
        "  left_lane, right_lane = average_slope_intercept(lines)\n",
        "  y1 = image.shape[0]\n",
        "  y2 = y1 * 0.6\n",
        "  left_line = pixel_points(y1, y2, left_lane)\n",
        "  right_line = pixel_points(y1, y2, right_lane)\n",
        "  return left_line, right_line"
      ],
      "metadata": {
        "id": "-5cwpl5M3QsW"
      },
      "execution_count": 8,
      "outputs": []
    },
    {
      "cell_type": "markdown",
      "source": [
        "## **Defining \"draw_lane_lines\" function**"
      ],
      "metadata": {
        "id": "zRrsvQmy3wCh"
      }
    },
    {
      "cell_type": "code",
      "source": [
        "def draw_lane_lines(image, lines, color=[255, 0, 0], thickness=12):\n",
        "  line_image = np.zeros_like(image)\n",
        "  for line in lines:\n",
        "    if line is not None:\n",
        "      cv2.line(line_image, *line, color, thickness)\n",
        "\n",
        "  return cv2.addWeighted(image, 1.0, line_image, 1.0, 0.0)"
      ],
      "metadata": {
        "id": "FYQI2GU439lF"
      },
      "execution_count": 21,
      "outputs": []
    },
    {
      "cell_type": "markdown",
      "source": [
        "## **Calling driver function**"
      ],
      "metadata": {
        "id": "5Oh5WeRn4hcM"
      }
    },
    {
      "cell_type": "code",
      "source": [
        "process_video('challenge_video.mp4','output.mp4')"
      ],
      "metadata": {
        "colab": {
          "base_uri": "https://localhost:8080/"
        },
        "id": "16P_l7Kf4nkz",
        "outputId": "fa795629-774b-48ad-80c7-792166556365"
      },
      "execution_count": 22,
      "outputs": [
        {
          "output_type": "stream",
          "name": "stdout",
          "text": [
            "Moviepy - Building video output.mp4.\n",
            "Moviepy - Writing video output.mp4\n",
            "\n"
          ]
        },
        {
          "output_type": "stream",
          "name": "stderr",
          "text": [
            "t: 100%|██████████| 485/485 [00:53<00:00,  6.11it/s, now=None]WARNING:py.warnings:/usr/local/lib/python3.10/dist-packages/moviepy/video/io/ffmpeg_reader.py:123: UserWarning: Warning: in file challenge_video.mp4, 2764800 bytes wanted but 0 bytes read,at frame 484/485, at time 16.15/16.15 sec. Using the last valid frame instead.\n",
            "  warnings.warn(\"Warning: in file %s, \"%(self.filename)+\n",
            "\n"
          ]
        },
        {
          "output_type": "stream",
          "name": "stdout",
          "text": [
            "Moviepy - Done !\n",
            "Moviepy - video ready output.mp4\n"
          ]
        }
      ]
    },
    {
      "cell_type": "code",
      "source": [
        "process_video('challenge_video1.mp4','output1.mp4')"
      ],
      "metadata": {
        "colab": {
          "base_uri": "https://localhost:8080/"
        },
        "id": "3UJFpoN46Lz8",
        "outputId": "bd9b47f7-c3c0-427d-ed94-4c25cb71f9d2"
      },
      "execution_count": 23,
      "outputs": [
        {
          "output_type": "stream",
          "name": "stdout",
          "text": [
            "Moviepy - Building video output1.mp4.\n",
            "Moviepy - Writing video output1.mp4\n",
            "\n"
          ]
        },
        {
          "output_type": "stream",
          "name": "stderr",
          "text": [
            "t: 100%|█████████▉| 1296/1297 [01:40<00:00,  8.61it/s, now=None]WARNING:py.warnings:/usr/local/lib/python3.10/dist-packages/moviepy/video/io/ffmpeg_reader.py:123: UserWarning: Warning: in file challenge_video1.mp4, 2764800 bytes wanted but 0 bytes read,at frame 1295/1298, at time 25.90/25.94 sec. Using the last valid frame instead.\n",
            "  warnings.warn(\"Warning: in file %s, \"%(self.filename)+\n",
            "\n",
            "WARNING:py.warnings:/usr/local/lib/python3.10/dist-packages/moviepy/video/io/ffmpeg_reader.py:123: UserWarning: Warning: in file challenge_video1.mp4, 2764800 bytes wanted but 0 bytes read,at frame 1296/1298, at time 25.92/25.94 sec. Using the last valid frame instead.\n",
            "  warnings.warn(\"Warning: in file %s, \"%(self.filename)+\n",
            "\n"
          ]
        },
        {
          "output_type": "stream",
          "name": "stdout",
          "text": [
            "Moviepy - Done !\n",
            "Moviepy - video ready output1.mp4\n"
          ]
        }
      ]
    }
  ]
}